{
  "nbformat": 4,
  "nbformat_minor": 0,
  "metadata": {
    "colab": {
      "provenance": []
    },
    "kernelspec": {
      "name": "python3",
      "display_name": "Python 3"
    },
    "language_info": {
      "name": "python"
    }
  },
  "cells": [
    {
      "cell_type": "code",
      "source": [
        "from google.colab import drive\n",
        "drive.mount('/content/drive')"
      ],
      "metadata": {
        "colab": {
          "base_uri": "https://localhost:8080/"
        },
        "id": "dySpZrNLUlWx",
        "outputId": "20defd34-7814-4bfd-dfee-79651681c3c2"
      },
      "execution_count": 7,
      "outputs": [
        {
          "output_type": "stream",
          "name": "stdout",
          "text": [
            "Drive already mounted at /content/drive; to attempt to forcibly remount, call drive.mount(\"/content/drive\", force_remount=True).\n"
          ]
        }
      ]
    },
    {
      "cell_type": "code",
      "execution_count": 8,
      "metadata": {
        "id": "3R2tZkZbUMKS"
      },
      "outputs": [],
      "source": [
        "# Save your Streamlit app code to a file\n",
        "streamlit_script = \"\"\"\n",
        "\n",
        "import streamlit as st\n",
        "import tensorflow as tf\n",
        "import numpy as np\n",
        "import cv2\n",
        "from PIL import Image\n",
        "import matplotlib.pyplot as plt\n",
        "from tensorflow.keras.models import load_model\n",
        "\n",
        "# Load the trained model (Update path accordingly)\n",
        "model_path = '/content/drive/MyDrive/Dataset/Mall_Dataset/models/time_stamp_model.keras'  # Path to your saved model\n",
        "model = load_model(model_path)  # Load the model\n",
        "\n",
        "# Function to load and preprocess the image\n",
        "def load_and_preprocess_image(image_path, target_size=(224, 224)):\n",
        "    img = Image.open(image_path)\n",
        "    img = img.resize(target_size)\n",
        "    img_array = np.array(img) / 255.0  # Normalize the image\n",
        "    img_array = np.expand_dims(img_array, axis=0)  # Add batch dimension\n",
        "    return img_array\n",
        "\n",
        "# Function to predict the total people count and zone-wise people count\n",
        "def run_detector(model, image_path):\n",
        "    # Load and preprocess the image\n",
        "    img_array = load_and_preprocess_image(image_path)\n",
        "\n",
        "    # Predict the total people count (assuming output is a vector of counts for total and zones)\n",
        "    predictions = model.predict(img_array)\n",
        "\n",
        "    # Extract the predictions for total count and zones (5 values: people_count, zone_1, zone_2, zone_3, zone_4)\n",
        "    people_count_pred, zone_1_pred, zone_2_pred, zone_3_pred, zone_4_pred = predictions[0]\n",
        "\n",
        "    # Round the predictions to the nearest integer\n",
        "    people_count_pred = round(people_count_pred)\n",
        "    zone_1_pred = round(zone_1_pred)\n",
        "    zone_2_pred = round(zone_2_pred)\n",
        "    zone_3_pred = round(zone_3_pred)\n",
        "    zone_4_pred = round(zone_4_pred)\n",
        "\n",
        "    # Return the predictions\n",
        "    return people_count_pred, zone_1_pred, zone_2_pred, zone_3_pred, zone_4_pred\n",
        "\n",
        "# Function to determine the business level based on total people count\n",
        "def get_business_level(total_people_count):\n",
        "    if total_people_count < 10:\n",
        "        return \"Low\"\n",
        "    elif 10 <= total_people_count < 20:\n",
        "        return \"Moderate\"\n",
        "    else:\n",
        "        return \"High\"\n",
        "\n",
        "# Streamlit UI for image upload and model interaction\n",
        "st.title(\"Improve Mall Traffic with AI-Powered People Counting\")\n",
        "\n",
        "# File uploader widget\n",
        "uploaded_image = st.file_uploader(\"Upload Image\", type=[\"jpg\", \"png\", \"jpeg\"])\n",
        "\n",
        "if uploaded_image is not None:\n",
        "    # Save the uploaded image to a temporary file\n",
        "    image_path = \"/content/tmp_uploaded_image.jpg\"\n",
        "    with open(image_path, \"wb\") as f:\n",
        "        f.write(uploaded_image.getbuffer())\n",
        "\n",
        "    # Run the detector and get predictions\n",
        "    people_count_pred, zone_1_pred, zone_2_pred, zone_3_pred, zone_4_pred = run_detector(model, image_path)\n",
        "\n",
        "    # Display the total people count\n",
        "    st.write(f\"**Total People Detected:** {people_count_pred}\")\n",
        "\n",
        "    # Display zone-wise people count\n",
        "    st.sidebar.subheader(\"Zone-wise People Count\")\n",
        "    st.sidebar.write(f\"**Zone 1:** {zone_1_pred} people\")\n",
        "    st.sidebar.write(f\"**Zone 2:** {zone_2_pred} people\")\n",
        "    st.sidebar.write(f\"**Zone 3:** {zone_3_pred} people\")\n",
        "    st.sidebar.write(f\"**Zone 4:** {zone_4_pred} people\")\n",
        "\n",
        "    # Display the business level of the mall\n",
        "    business_level = get_business_level(people_count_pred)\n",
        "    st.write(f\"**Mall Business Level:** {business_level}\")\n",
        "\n",
        "    # Display the uploaded image\n",
        "    image_pil = Image.open(image_path)\n",
        "    st.image(image_pil, caption=\"Uploaded Image\", use_container_width=True)\n",
        "\n",
        "    # Display the result (image with zones and counts)\n",
        "    img_display = cv2.imread(image_path)\n",
        "    img_display = cv2.cvtColor(img_display, cv2.COLOR_BGR2RGB)  # Convert BGR to RGB for correct display\n",
        "\n",
        "    # Zone height and width based on 2x2 grid\n",
        "    zone_height = img_display.shape[0] // 2\n",
        "    zone_width = img_display.shape[1] // 2\n",
        "\n",
        "    # Draw rectangles for each zone and label it with the zone number\n",
        "    for zone_index in range(1, 5):  # For 4 zones\n",
        "        row = (zone_index - 1) // 2  # Determine the row for the zone (0 or 1)\n",
        "        col = (zone_index - 1) % 2   # Determine the column for the zone (0 or 1)\n",
        "\n",
        "        # Calculate the coordinates of the top-left and bottom-right corners of the zone\n",
        "        y1 = row * zone_height\n",
        "        y2 = (row + 1) * zone_height\n",
        "        x1 = col * zone_width\n",
        "        x2 = (col + 1) * zone_width\n",
        "\n",
        "        # Draw the rectangle on the image\n",
        "        cv2.rectangle(img_display, (x1, y1), (x2, y2), (255, 0, 0), 2)\n",
        "\n",
        "        # Add the zone number text inside the rectangle\n",
        "        cv2.putText(img_display, f'Zone {zone_index}', (x1 + 10, y1 + 30), cv2.FONT_HERSHEY_SIMPLEX, 1, (255, 0, 0), 2)\n",
        "\n",
        "    # Display the processed image with the bounding boxes and zone numbers\n",
        "    st.image(img_display, caption=f\"Processed Image with {people_count_pred} People Detected\", use_container_width=True)\n",
        "\n",
        "\"\"\"\n",
        "\n",
        "with open(\"streamlit_app.py\", \"w\") as f:\n",
        "    f.write(streamlit_script)"
      ]
    },
    {
      "cell_type": "code",
      "source": [
        "!pip install streamlit pyngrok tensorflow pillow --quiet"
      ],
      "metadata": {
        "id": "0W8hz-dFUROz"
      },
      "execution_count": 9,
      "outputs": []
    },
    {
      "cell_type": "code",
      "source": [
        "from pyngrok import ngrok\n",
        "\n",
        "# Set your ngrok authentication token\n",
        "ngrok.set_auth_token(\"2pGVlynRP3dsCGA3U8VPqImSktv_6VZj5BppdZe9ZDEuhiX2N\")\n",
        "\n",
        "# Start the ngrok tunnel\n",
        "public_url = ngrok.connect(8501, \"http\")\n",
        "print(f\"Public URL for Streamlit: {public_url}\")\n",
        "\n",
        "\n",
        "# Run the Streamlit app in the background\n",
        "!streamlit run streamlit_app.py &"
      ],
      "metadata": {
        "id": "yICZ5tATUSka"
      },
      "execution_count": 10,
      "outputs": []
    },
    {
      "cell_type": "code",
      "source": [
        "!jupyter nbconvert --to html /content/DATA_CLEANING_AND_EDA_TASK_1.ipynb"
      ],
      "metadata": {
        "id": "zTu0CUKyi6pd"
      },
      "execution_count": null,
      "outputs": []
    }
  ]
}